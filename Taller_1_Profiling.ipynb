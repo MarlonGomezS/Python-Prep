{
  "nbformat": 4,
  "nbformat_minor": 0,
  "metadata": {
    "colab": {
      "provenance": [],
      "authorship_tag": "ABX9TyORpV7WNYRBzJxetU/iUeZb",
      "include_colab_link": true
    },
    "kernelspec": {
      "name": "python3",
      "display_name": "Python 3"
    },
    "language_info": {
      "name": "python"
    }
  },
  "cells": [
    {
      "cell_type": "markdown",
      "metadata": {
        "id": "view-in-github",
        "colab_type": "text"
      },
      "source": [
        "<a href=\"https://colab.research.google.com/github/MarlonGomezS/Python-Prep/blob/main/Taller_1_Profiling.ipynb\" target=\"_parent\"><img src=\"https://colab.research.google.com/assets/colab-badge.svg\" alt=\"Open In Colab\"/></a>"
      ]
    },
    {
      "cell_type": "code",
      "execution_count": 12,
      "metadata": {
        "colab": {
          "base_uri": "https://localhost:8080/"
        },
        "id": "kcMgHK0yNz_p",
        "outputId": "57076951-221e-4bc3-9c46-783ab1c0b7ac"
      },
      "outputs": [
        {
          "output_type": "stream",
          "name": "stdout",
          "text": [
            "bin\t\t\t    datalab  kaggle  libx32\t\t       opt   sbin  tools\n",
            "boot\t\t\t    dev      lib     media\t\t       proc  srv   usr\n",
            "content\t\t\t    etc      lib32   mnt\t\t       root  sys   var\n",
            "cuda-keyring_1.0-1_all.deb  home     lib64   NGC-DL-CONTAINER-LICENSE  run   tmp\n"
          ]
        }
      ],
      "source": [
        "!cd ..\n",
        "!cd .. && ls"
      ]
    },
    {
      "cell_type": "code",
      "source": [
        "!ls -l"
      ],
      "metadata": {
        "colab": {
          "base_uri": "https://localhost:8080/"
        },
        "id": "hmxS8dT2OJhc",
        "outputId": "7acd9e4f-d741-40ff-bf2c-a150a332e03a"
      },
      "execution_count": 13,
      "outputs": [
        {
          "output_type": "stream",
          "name": "stdout",
          "text": [
            "total 4\n",
            "drwxr-xr-x 1 root root 4096 Mar 26 00:47 sample_data\n",
            "-rwxrwxrwx 1 root root    0 Mar 26 00:47 t1.py\n"
          ]
        }
      ]
    },
    {
      "cell_type": "code",
      "source": [
        "!pip install PyInstrument\n"
      ],
      "metadata": {
        "colab": {
          "base_uri": "https://localhost:8080/"
        },
        "id": "IhdlVVz5Os-t",
        "outputId": "382a3a8c-bf99-4a14-ad99-25d0a6273e94"
      },
      "execution_count": 15,
      "outputs": [
        {
          "output_type": "stream",
          "name": "stdout",
          "text": [
            "Collecting PyInstrument\n",
            "  Downloading pyinstrument-4.6.2-cp310-cp310-manylinux_2_5_x86_64.manylinux1_x86_64.manylinux_2_17_x86_64.manylinux2014_x86_64.whl (106 kB)\n",
            "\u001b[?25l     \u001b[90m━━━━━━━━━━━━━━━━━━━━━━━━━━━━━━━━━━━━━━━━\u001b[0m \u001b[32m0.0/106.9 kB\u001b[0m \u001b[31m?\u001b[0m eta \u001b[36m-:--:--\u001b[0m\r\u001b[2K     \u001b[91m━━━━━━━━━━━━━━━━━━━━━━━━━━━━━━━━━━━━━━\u001b[0m\u001b[90m╺\u001b[0m\u001b[90m━\u001b[0m \u001b[32m102.4/106.9 kB\u001b[0m \u001b[31m3.1 MB/s\u001b[0m eta \u001b[36m0:00:01\u001b[0m\r\u001b[2K     \u001b[90m━━━━━━━━━━━━━━━━━━━━━━━━━━━━━━━━━━━━━━━━\u001b[0m \u001b[32m106.9/106.9 kB\u001b[0m \u001b[31m2.6 MB/s\u001b[0m eta \u001b[36m0:00:00\u001b[0m\n",
            "\u001b[?25hInstalling collected packages: PyInstrument\n",
            "Successfully installed PyInstrument-4.6.2\n"
          ]
        }
      ]
    },
    {
      "cell_type": "code",
      "source": [
        "%%pyinstrument\n",
        "import time\n",
        "\n",
        "def mi_funcion():\n",
        "    time.sleep(1)\n",
        "mi_funcion()"
      ],
      "metadata": {
        "colab": {
          "base_uri": "https://localhost:8080/",
          "height": 422
        },
        "id": "vJSjwKgfPBa2",
        "outputId": "99b8661c-5033-4ddb-d2af-4ad5bc3eb2e8"
      },
      "execution_count": 17,
      "outputs": [
        {
          "output_type": "display_data",
          "data": {
            "text/html": [
              "\n",
              "        <iframe\n",
              "            width=\"100%\"\n",
              "            height=\"400\"\n",
              "            src=\"data:text/html, %3C%21DOCTYPE%20html%3E%0A%20%20%20%20%20%20%20%20%20%20%20%20%3Chtml%3E%0A%20%20%20%20%20%20%20%20%20%20%20%20%3Chead%3E%0A%20%20%20%20%20%20%20%20%20%20%20%20%20%20%20%20%3Cmeta%20charset%3D%22utf-8%22%3E%0A%20%20%20%20%20%20%20%20%20%20%20%20%3C/head%3E%0A%20%20%20%20%20%20%20%20%20%20%20%20%3Cbody%3E%0A%20%20%20%20%20%20%20%20%20%20%20%20%20%20%20%20%3Cdiv%20id%3D%22app%22%3E%3C/div%3E%0A%0A%20%20%20%20%20%20%20%20%20%20%20%20%20%20%20%20%3Cscript%3Evar%20pyinstrumentHTMLRenderer%3Dfunction%28%29%7B%22use%20strict%22%3Bvar%20ct%3DObject.defineProperty%3Bvar%20dt%3D%28R%2CC%2CH%29%3D%3EC%20in%20R%3Fct%28R%2CC%2C%7Benumerable%3A%210%2Cconfigurable%3A%210%2Cwritable%3A%210%2Cvalue%3AH%7D%29%3AR%5BC%5D%3DH%3Bvar%20k%3D%28R%2CC%2CH%29%3D%3E%28dt%28R%2Ctypeof%20C%21%3D%22symbol%22%3FC%2B%22%22%3AC%2CH%29%2CH%29%3Bconst%20R%3D%22%22%3Bfunction%20C%28%29%7B%7Dfunction%20H%28t%29%7Breturn%20t%28%29%7Dfunction%20we%28%29%7Breturn%20Object.create%28null%29%7Dfunction%20O%28t%29%7Bt.forEach%28H%29%7Dfunction%20be%28t%29%7Breturn%20typeof%20t%3D%3D%22function%22%7Dfunction%20K%28t%2Ce%29%7Breturn%20t%21%3Dt%3Fe%3D%3De%3At%21%3D%3De%7C%7Ct%26%26typeof%20t%3D%3D%22object%22%7C%7Ctypeof%20t%3D%3D%22function%22%7Dfunction%20Ie%28t%29%7Breturn%20Object.keys%28t%29.length%3D%3D%3D0%7Dfunction%20Re%28t%2C...e%29%7Bif%28t%3D%3Dnull%29return%20C%3Bconst%20i%3Dt.subscribe%28...e%29%3Breturn%20i.unsubscribe%3F%28%29%3D%3Ei.unsubscribe%28%29%3Ai%7Dfunction%20se%28t%2Ce%2Ci%29%7Bt.%24%24.on_destroy.push%28Re%28e%2Ci%29%29%7Dfunction%20f%28t%2Ce%29%7Bt.appendChild%28e%29%7Dfunction%20X%28t%2Ce%2Ci%29%7Bt.insertBefore%28e%2Ci%7C%7Cnull%29%7Dfunction%20N%28t%29%7Bt.parentNode%26%26t.parentNode.removeChild%28t%29%7Dfunction%20_%28t%29%7Breturn%20document.createElement%28t%29%7Dfunction%20ke%28t%29%7Breturn%20document.createElementNS%28%22http%3A//www.w3.org/2000/svg%22%2Ct%29%7Dfunction%20L%28t%29%7Breturn%20document.createTextNode%28t%29%7Dfunction%20w%28%29%7Breturn%20L%28%22%20%22%29%7Dfunction%20ye%28%29%7Breturn%20L%28%22%22%29%7Dfunction%20W%28t%2Ce%2Ci%2Cn%29%7Breturn%20t.addEventListener%28e%2Ci%2Cn%29%2C%28%29%3D%3Et.removeEventListener%28e%2Ci%2Cn%29%7Dfunction%20Ce%28t%29%7Breturn%20function%28e%29%7Breturn%20e.preventDefault%28%29%2Ct.call%28this%2Ce%29%7D%7Dfunction%20Ee%28t%29%7Breturn%20function%28e%29%7Breturn%20e.stopPropagation%28%29%2Ct.call%28this%2Ce%29%7D%7Dfunction%20m%28t%2Ce%2Ci%29%7Bi%3D%3Dnull%3Ft.removeAttribute%28e%29%3At.getAttribute%28e%29%21%3D%3Di%26%26t.setAttribute%28e%2Ci%29%7Dfunction%20Oe%28t%29%7Breturn%20Array.from%28t.childNodes%29%7Dfunction%20q%28t%2Ce%29%7Be%3D%22%22%2Be%2Ct.wholeText%21%3D%3De%26%26%28t.data%3De%29%7Dfunction%20T%28t%2Ce%2Ci%2Cn%29%7Bi%3D%3D%3Dnull%3Ft.style.removeProperty%28e%29%3At.style.setProperty%28e%2Ci%2Cn%3F%22important%22%3A%22%22%29%7Dfunction%20Q%28t%2Ce%2Ci%29%7Bt.classList%5Bi%3F%22add%22%3A%22remove%22%5D%28e%29%7Dlet%20V%3Bfunction%20Z%28t%29%7BV%3Dt%7Dfunction%20Te%28%29%7Bif%28%21V%29throw%20new%20Error%28%22Function%20called%20outside%20component%20initialization%22%29%3Breturn%20V%7Dfunction%20qe%28t%29%7BTe%28%29.%24%24.on_mount.push%28t%29%7Dfunction%20Ue%28t%29%7BTe%28%29.%24%24.on_destroy.push%28t%29%7Dconst%20Y%3D%5B%5D%2CFe%3D%5B%5D%2Cj%3D%5B%5D%2CSe%3D%5B%5D%2CVe%3DPromise.resolve%28%29%3Blet%20ae%3D%211%3Bfunction%20Ze%28%29%7Bae%7C%7C%28ae%3D%210%2CVe.then%28%24e%29%29%7Dfunction%20ue%28t%29%7Bj.push%28t%29%7Dconst%20fe%3Dnew%20Set%3Blet%20x%3D0%3Bfunction%20%24e%28%29%7Bconst%20t%3DV%3Bdo%7Bfor%28%3Bx%3CY.length%3B%29%7Bconst%20e%3DY%5Bx%5D%3Bx%2B%2B%2CZ%28e%29%2CYe%28e.%24%24%29%7Dfor%28Z%28null%29%2CY.length%3D0%2Cx%3D0%3BFe.length%3B%29Fe.pop%28%29%28%29%3Bfor%28let%20e%3D0%3Be%3Cj.length%3Be%2B%3D1%29%7Bconst%20i%3Dj%5Be%5D%3Bfe.has%28i%29%7C%7C%28fe.add%28i%29%2Ci%28%29%29%7Dj.length%3D0%7Dwhile%28Y.length%29%3Bfor%28%3BSe.length%3B%29Se.pop%28%29%28%29%3Bae%3D%211%2Cfe.clear%28%29%2CZ%28t%29%7Dfunction%20Ye%28t%29%7Bif%28t.fragment%21%3D%3Dnull%29%7Bt.update%28%29%2CO%28t.before_update%29%3Bconst%20e%3Dt.dirty%3Bt.dirty%3D%5B-1%5D%2Ct.fragment%26%26t.fragment.p%28t.ctx%2Ce%29%2Ct.after_update.forEach%28ue%29%7D%7Dconst%20ee%3Dnew%20Set%3Blet%20G%3Bfunction%20ce%28%29%7BG%3D%7Br%3A0%2Cc%3A%5B%5D%2Cp%3AG%7D%7Dfunction%20de%28%29%7BG.r%7C%7CO%28G.c%29%2CG%3DG.p%7Dfunction%20D%28t%2Ce%29%7Bt%26%26t.i%26%26%28ee.delete%28t%29%2Ct.i%28e%29%29%7Dfunction%20z%28t%2Ce%2Ci%2Cn%29%7Bif%28t%26%26t.o%29%7Bif%28ee.has%28t%29%29return%3Bee.add%28t%29%2CG.c.push%28%28%29%3D%3E%7Bee.delete%28t%29%2Cn%26%26%28i%26%26t.d%281%29%2Cn%28%29%29%7D%29%2Ct.o%28e%29%7Delse%20n%26%26n%28%29%7Dfunction%20Je%28t%2Ce%29%7Bz%28t%2C1%2C1%2C%28%29%3D%3E%7Be.delete%28t.key%29%7D%29%7Dfunction%20Ke%28t%2Ce%2Ci%2Cn%2Cs%2Cu%2Cr%2Co%2Ca%2Cl%2Ch%2Cp%29%7Blet%20d%3Dt.length%2Cg%3Du.length%2CA%3Dd%3Bconst%20b%3D%7B%7D%3Bfor%28%3BA--%3B%29b%5Bt%5BA%5D.key%5D%3DA%3Bconst%20F%3D%5B%5D%2Cc%3Dnew%20Map%2Cv%3Dnew%20Map%3Bfor%28A%3Dg%3BA--%3B%29%7Bconst%20y%3Dp%28s%2Cu%2CA%29%2CS%3Di%28y%29%3Blet%20P%3Dr.get%28S%29%3BP%3Fn%26%26P.p%28y%2Ce%29%3A%28P%3Dl%28S%2Cy%29%2CP.c%28%29%29%2Cc.set%28S%2CF%5BA%5D%3DP%29%2CS%20in%20b%26%26v.set%28S%2CMath.abs%28A-b%5BS%5D%29%29%7Dconst%20%24%3Dnew%20Set%2CM%3Dnew%20Set%3Bfunction%20E%28y%29%7BD%28y%2C1%29%2Cy.m%28o%2Ch%29%2Cr.set%28y.key%2Cy%29%2Ch%3Dy.first%2Cg--%7Dfor%28%3Bd%26%26g%3B%29%7Bconst%20y%3DF%5Bg-1%5D%2CS%3Dt%5Bd-1%5D%2CP%3Dy.key%2CB%3DS.key%3By%3D%3D%3DS%3F%28h%3Dy.first%2Cd--%2Cg--%29%3Ac.has%28B%29%3F%21r.has%28P%29%7C%7C%24.has%28P%29%3FE%28y%29%3AM.has%28B%29%3Fd--%3Av.get%28P%29%3Ev.get%28B%29%3F%28M.add%28P%29%2CE%28y%29%29%3A%28%24.add%28B%29%2Cd--%29%3A%28a%28S%2Cr%29%2Cd--%29%7Dfor%28%3Bd--%3B%29%7Bconst%20y%3Dt%5Bd%5D%3Bc.has%28y.key%29%7C%7Ca%28y%2Cr%29%7Dfor%28%3Bg%3B%29E%28F%5Bg-1%5D%29%3Breturn%20F%7Dfunction%20pe%28t%29%7Bt%26%26t.c%28%29%7Dfunction%20te%28t%2Ce%2Ci%2Cn%29%7Bconst%7Bfragment%3As%2Cafter_update%3Au%7D%3Dt.%24%24%3Bs%26%26s.m%28e%2Ci%29%2Cn%7C%7Cue%28%28%29%3D%3E%7Bconst%20r%3Dt.%24%24.on_mount.map%28H%29.filter%28be%29%3Bt.%24%24.on_destroy%3Ft.%24%24.on_destroy.push%28...r%29%3AO%28r%29%2Ct.%24%24.on_mount%3D%5B%5D%7D%29%2Cu.forEach%28ue%29%7Dfunction%20ie%28t%2Ce%29%7Bconst%20i%3Dt.%24%24%3Bi.fragment%21%3D%3Dnull%26%26%28O%28i.on_destroy%29%2Ci.fragment%26%26i.fragment.d%28e%29%2Ci.on_destroy%3Di.fragment%3Dnull%2Ci.ctx%3D%5B%5D%29%7Dfunction%20We%28t%2Ce%29%7Bt.%24%24.dirty%5B0%5D%3D%3D%3D-1%26%26%28Y.push%28t%29%2CZe%28%29%2Ct.%24%24.dirty.fill%280%29%29%2Ct.%24%24.dirty%5Be/31%7C0%5D%7C%3D1%3C%3Ce%2531%7Dfunction%20me%28t%2Ce%2Ci%2Cn%2Cs%2Cu%2Cr%2Co%3D%5B-1%5D%29%7Bconst%20a%3DV%3BZ%28t%29%3Bconst%20l%3Dt.%24%24%3D%7Bfragment%3Anull%2Cctx%3A%5B%5D%2Cprops%3Au%2Cupdate%3AC%2Cnot_equal%3As%2Cbound%3Awe%28%29%2Con_mount%3A%5B%5D%2Con_destroy%3A%5B%5D%2Con_disconnect%3A%5B%5D%2Cbefore_update%3A%5B%5D%2Cafter_update%3A%5B%5D%2Ccontext%3Anew%20Map%28e.context%7C%7C%28a%3Fa.%24%24.context%3A%5B%5D%29%29%2Ccallbacks%3Awe%28%29%2Cdirty%3Ao%2Cskip_bound%3A%211%2Croot%3Ae.target%7C%7Ca.%24%24.root%7D%3Br%26%26r%28l.root%29%3Blet%20h%3D%211%3Bif%28l.ctx%3Di%3Fi%28t%2Ce.props%7C%7C%7B%7D%2C%28p%2Cd%2C...g%29%3D%3E%7Bconst%20A%3Dg.length%3Fg%5B0%5D%3Ad%3Breturn%20l.ctx%26%26s%28l.ctx%5Bp%5D%2Cl.ctx%5Bp%5D%3DA%29%26%26%28%21l.skip_bound%26%26l.bound%5Bp%5D%26%26l.bound%5Bp%5D%28A%29%2Ch%26%26We%28t%2Cp%29%29%2Cd%7D%29%3A%5B%5D%2Cl.update%28%29%2Ch%3D%210%2CO%28l.before_update%29%2Cl.fragment%3Dn%3Fn%28l.ctx%29%3A%211%2Ce.target%29%7Bif%28e.hydrate%29%7Bconst%20p%3DOe%28e.target%29%3Bl.fragment%26%26l.fragment.l%28p%29%2Cp.forEach%28N%29%7Delse%20l.fragment%26%26l.fragment.c%28%29%3Be.intro%26%26D%28t.%24%24.fragment%29%2Cte%28t%2Ce.target%2Ce.anchor%2Ce.customElement%29%2C%24e%28%29%7DZ%28a%29%7Dclass%20he%7B%24destroy%28%29%7Bie%28this%2C1%29%2Cthis.%24destroy%3DC%7D%24on%28e%2Ci%29%7Bif%28%21be%28i%29%29return%20C%3Bconst%20n%3Dthis.%24%24.callbacks%5Be%5D%7C%7C%28this.%24%24.callbacks%5Be%5D%3D%5B%5D%29%3Breturn%20n.push%28i%29%2C%28%29%3D%3E%7Bconst%20s%3Dn.indexOf%28i%29%3Bs%21%3D%3D-1%26%26n.splice%28s%2C1%29%7D%7D%24set%28e%29%7Bthis.%24%24set%26%26%21Ie%28e%29%26%26%28this.%24%24.skip_bound%3D%210%2Cthis.%24%24set%28e%29%2Cthis.%24%24.skip_bound%3D%211%29%7D%7Dconst%20U%3D%5B%5D%3Bfunction%20Pe%28t%2Ce%3DC%29%7Blet%20i%3Bconst%20n%3Dnew%20Set%3Bfunction%20s%28o%29%7Bif%28K%28t%2Co%29%26%26%28t%3Do%2Ci%29%29%7Bconst%20a%3D%21U.length%3Bfor%28const%20l%20of%20n%29l%5B1%5D%28%29%2CU.push%28l%2Ct%29%3Bif%28a%29%7Bfor%28let%20l%3D0%3Bl%3CU.length%3Bl%2B%3D2%29U%5Bl%5D%5B0%5D%28U%5Bl%2B1%5D%29%3BU.length%3D0%7D%7D%7Dfunction%20u%28o%29%7Bs%28o%28t%29%29%7Dfunction%20r%28o%2Ca%3DC%29%7Bconst%20l%3D%5Bo%2Ca%5D%3Breturn%20n.add%28l%29%2Cn.size%3D%3D%3D1%26%26%28i%3De%28s%29%7C%7CC%29%2Co%28t%29%2C%28%29%3D%3E%7Bn.delete%28l%29%2Cn.size%3D%3D%3D0%26%26%28i%28%29%2Ci%3Dnull%29%7D%7Dreturn%7Bset%3As%2Cupdate%3Au%2Csubscribe%3Ar%7D%7Dconst%20De%3DPe%28%7B%7D%29%2Cne%3DPe%28%22absolute%22%29%2Cpt%3D%22%22%3Bfunction%20je%28t%29%7Blet%20e%2Ci%2Cn%2Cs%2Cu%2Cr%2Co%2Ca%2Cl%2Ch%2Cp%2Cd%2Cg%2CA%2Cb%2CF%2Cc%2Cv%2C%24%2CM%2CE%2Cy%2CS%2CP%2CB%2Cre%3Dt%5B0%5D.sampleCount%2B%22%22%2Cve%2CXe%2Cle%2CQe%2Coe%2CAe%2CGe%3Breturn%7Bc%28%29%7Be%3D_%28%22div%22%29%2Ci%3D_%28%22div%22%29%2Cn%3D_%28%22div%22%29%2Cs%3D_%28%22div%22%29%2Cs.textContent%3D%22pyinstrument%22%2Cu%3Dw%28%29%2Cr%3D_%28%22div%22%29%2Co%3D_%28%22label%22%29%2Co.textContent%3D%22Absolute%20time%22%2Ca%3Dw%28%29%2Cl%3D_%28%22input%22%29%2Ch%3Dw%28%29%2Cp%3D_%28%22div%22%29%2Cp.textContent%3D%22Recorded%3A%22%2Cd%3Dw%28%29%2Cg%3D_%28%22div%22%29%2Cg.textContent%3D%60%24%7Bt%5B2%5D%7D%60%2CA%3Dw%28%29%2Cb%3D_%28%22div%22%29%2Cb.textContent%3D%22Duration%3A%22%2CF%3Dw%28%29%2Cc%3D_%28%22div%22%29%2Cc.textContent%3D%60%24%7Bt%5B4%5D%7D%20seconds%60%2Cv%3Dw%28%29%2C%24%3D_%28%22label%22%29%2C%24.textContent%3D%22Proportional%20time%22%2CM%3Dw%28%29%2CE%3D_%28%22input%22%29%2Cy%3Dw%28%29%2CS%3D_%28%22div%22%29%2CS.textContent%3D%22Samples%3A%22%2CP%3Dw%28%29%2CB%3D_%28%22div%22%29%2Cve%3DL%28re%29%2CXe%3Dw%28%29%2Cle%3D_%28%22div%22%29%2Cle.textContent%3D%22CPU%20time%3A%22%2CQe%3Dw%28%29%2Coe%3D_%28%22div%22%29%2Coe.textContent%3D%60%24%7Bt%5B3%5D%7D%20seconds%60%2Cm%28s%2C%22class%22%2C%22title%20svelte-tewt95%22%29%2Cm%28o%2C%22class%22%2C%22metric-label%20svelte-tewt95%22%29%2Cm%28o%2C%22for%22%2C%22absolute%22%29%2Cm%28l%2C%22type%22%2C%22radio%22%29%2Cl.__value%3D%22absolute%22%2Cl.value%3Dl.__value%2Cm%28l%2C%22id%22%2C%22absolute%22%29%2Cm%28l%2C%22name%22%2C%22time-format%22%29%2Cl.checked%3D%210%2Ct%5B6%5D%5B0%5D.push%28l%29%2Cm%28p%2C%22class%22%2C%22metric-label%20svelte-tewt95%22%29%2Cm%28g%2C%22class%22%2C%22metric-value%20svelte-tewt95%22%29%2Cm%28b%2C%22class%22%2C%22metric-label%20svelte-tewt95%22%29%2Cm%28c%2C%22class%22%2C%22metric-value%20svelte-tewt95%22%29%2Cm%28%24%2C%22class%22%2C%22metric-label%20svelte-tewt95%22%29%2Cm%28%24%2C%22for%22%2C%22proportion%22%29%2Cm%28E%2C%22type%22%2C%22radio%22%29%2CE.__value%3D%22proportion%22%2CE.value%3DE.__value%2Cm%28E%2C%22id%22%2C%22proportion%22%29%2Cm%28E%2C%22name%22%2C%22time-format%22%29%2Ct%5B6%5D%5B0%5D.push%28E%29%2Cm%28S%2C%22class%22%2C%22metric-label%20svelte-tewt95%22%29%2Cm%28B%2C%22class%22%2C%22metric-value%20svelte-tewt95%22%29%2Cm%28le%2C%22class%22%2C%22metric-label%20svelte-tewt95%22%29%2Cm%28oe%2C%22class%22%2C%22metric-value%20svelte-tewt95%22%29%2Cm%28r%2C%22class%22%2C%22metrics%20svelte-tewt95%22%29%2Cm%28n%2C%22class%22%2C%22row%20svelte-tewt95%22%29%2Cm%28i%2C%22class%22%2C%22margins%22%29%2Cm%28e%2C%22class%22%2C%22header%20svelte-tewt95%22%29%7D%2Cm%28I%2CJ%29%7BX%28I%2Ce%2CJ%29%2Cf%28e%2Ci%29%2Cf%28i%2Cn%29%2Cf%28n%2Cs%29%2Cf%28n%2Cu%29%2Cf%28n%2Cr%29%2Cf%28r%2Co%29%2Cf%28r%2Ca%29%2Cf%28r%2Cl%29%2Cl.checked%3Dl.__value%3D%3D%3Dt%5B1%5D%2Cf%28r%2Ch%29%2Cf%28r%2Cp%29%2Cf%28r%2Cd%29%2Cf%28r%2Cg%29%2Cf%28r%2CA%29%2Cf%28r%2Cb%29%2Cf%28r%2CF%29%2Cf%28r%2Cc%29%2Cf%28r%2Cv%29%2Cf%28r%2C%24%29%2Cf%28r%2CM%29%2Cf%28r%2CE%29%2CE.checked%3DE.__value%3D%3D%3Dt%5B1%5D%2Cf%28r%2Cy%29%2Cf%28r%2CS%29%2Cf%28r%2CP%29%2Cf%28r%2CB%29%2Cf%28B%2Cve%29%2Cf%28r%2CXe%29%2Cf%28r%2Cle%29%2Cf%28r%2CQe%29%2Cf%28r%2Coe%29%2CAe%7C%7C%28Ge%3D%5BW%28l%2C%22change%22%2Ct%5B5%5D%29%2CW%28E%2C%22change%22%2Ct%5B7%5D%29%5D%2CAe%3D%210%29%7D%2Cp%28I%2C%5BJ%5D%29%7BJ%262%26%26%28l.checked%3Dl.__value%3D%3D%3DI%5B1%5D%29%2CJ%262%26%26%28E.checked%3DE.__value%3D%3D%3DI%5B1%5D%29%2CJ%261%26%26re%21%3D%3D%28re%3DI%5B0%5D.sampleCount%2B%22%22%29%26%26q%28ve%2Cre%29%7D%2Ci%3AC%2Co%3AC%2Cd%28I%29%7BI%26%26N%28e%29%2Ct%5B6%5D%5B0%5D.splice%28t%5B6%5D%5B0%5D.indexOf%28l%29%2C1%29%2Ct%5B6%5D%5B0%5D.splice%28t%5B6%5D%5B0%5D.indexOf%28E%29%2C1%29%2CAe%3D%211%2CO%28Ge%29%7D%7D%7Dfunction%20xe%28t%2Ce%2Ci%29%7Bvar%20p%3Blet%20n%3Bse%28t%2Cne%2Cd%3D%3Ei%281%2Cn%3Dd%29%29%3Blet%7Bsession%3As%7D%3De%3Bconst%20u%3Dnew%20Date%28s.startTime%2A1e3%29.toLocaleString%28%29%2Cr%3D%28p%3Ds.cpuTime%29%3D%3Dnull%3Fvoid%200%3Ap.toLocaleString%28void%200%2C%7BmaximumSignificantDigits%3A3%7D%29%2Co%3Ds.duration.toLocaleString%28void%200%2C%7BmaximumSignificantDigits%3A3%7D%29%2Ca%3D%5B%5B%5D%5D%3Bfunction%20l%28%29%7Bn%3Dthis.__value%2Cne.set%28n%29%7Dfunction%20h%28%29%7Bn%3Dthis.__value%2Cne.set%28n%29%7Dreturn%20t.%24%24set%3Dd%3D%3E%7B%22session%22in%20d%26%26i%280%2Cs%3Dd.session%29%7D%2C%5Bs%2Cn%2Cu%2Cr%2Co%2Cl%2Ca%2Ch%5D%7Dclass%20et%20extends%20he%7Bconstructor%28e%29%7Bsuper%28%29%2Cme%28this%2Ce%2Cxe%2Cje%2CK%2C%7Bsession%3A0%7D%29%7D%7Dconst%20mt%3D%22%22%3Bfunction%20Me%28t%2Ce%2Ci%29%7Bconst%20n%3Dt.slice%28%29%3Breturn%20n%5B14%5D%3De%5Bi%5D%2Cn%7Dfunction%20Le%28t%29%7Blet%20e%2Ci%2Cn%2Cs%2Cu%2Cr%2Co%2Ca%2Cl%2Ch%2Cp%2Cd%2Cg%2CA%2Cb%2CF%3Breturn%7Bc%28%29%7Be%3D_%28%22div%22%29%2Ci%3D_%28%22div%22%29%2Cn%3Dke%28%22svg%22%29%2Cs%3Dke%28%22path%22%29%2Cu%3Dw%28%29%2Cr%3D_%28%22div%22%29%2Co%3DL%28t%5B5%5D%29%2Ca%3Dw%28%29%2Cl%3D_%28%22div%22%29%2Ch%3DL%28t%5B4%5D%29%2Cp%3Dw%28%29%2Cd%3D_%28%22div%22%29%2Cg%3Dw%28%29%2CA%3D_%28%22div%22%29%2CA.textContent%3D%60%24%7Bt%5B9%5D%7D%60%2Cm%28s%2C%22d%22%2C%22M.937-.016L5.793%204.84.937%209.696z%22%29%2Cm%28s%2C%22fill%22%2Ct%5B7%5D%29%2Cm%28s%2C%22fill-rule%22%2C%22evenodd%22%29%2Cm%28s%2C%22fill-opacity%22%2C%22.582%22%29%2Cm%28n%2C%22width%22%2C%226%22%29%2Cm%28n%2C%22height%22%2C%2210%22%29%2Cm%28i%2C%22class%22%2C%22frame-triangle%20svelte-1aphj50%22%29%2CQ%28i%2C%22rotate%22%2Ct%5B2%5D%29%2CT%28i%2C%22visibility%22%2Ct%5B0%5D.children.length%3E0%3F%22visible%22%3A%22hidden%22%29%2Cm%28r%2C%22class%22%2C%22time%20svelte-1aphj50%22%29%2CT%28r%2C%22color%22%2Ct%5B7%5D%29%2CT%28r%2C%22font-weight%22%2Ct%5B0%5D.proportionOfTotal%3C.2%3F500%3A600%29%2Cm%28l%2C%22class%22%2C%22name%20svelte-1aphj50%22%29%2Cm%28d%2C%22class%22%2C%22spacer%22%29%2CT%28d%2C%22flex%22%2C%221%22%29%2Cm%28A%2C%22class%22%2C%22code-position%20svelte-1aphj50%22%29%2Cm%28e%2C%22class%22%2C%22frame-description%20svelte-1aphj50%22%29%2CQ%28e%2C%22application-code%22%2Ct%5B0%5D.isApplicationCode%29%2CQ%28e%2C%22children-visible%22%2Ct%5B2%5D%29%2CT%28e%2C%22padding-left%22%2C%60%24%7Bt%5B1%5D%2A35%7Dpx%60%29%7D%2Cm%28c%2Cv%29%7BX%28c%2Ce%2Cv%29%2Cf%28e%2Ci%29%2Cf%28i%2Cn%29%2Cf%28n%2Cs%29%2Cf%28e%2Cu%29%2Cf%28e%2Cr%29%2Cf%28r%2Co%29%2Cf%28e%2Ca%29%2Cf%28e%2Cl%29%2Cf%28l%2Ch%29%2Cf%28e%2Cp%29%2Cf%28e%2Cd%29%2Cf%28e%2Cg%29%2Cf%28e%2CA%29%2Cb%7C%7C%28F%3DW%28e%2C%22click%22%2CEe%28Ce%28t%5B10%5D%29%29%29%2Cb%3D%210%29%7D%2Cp%28c%2Cv%29%7Bv%26128%26%26m%28s%2C%22fill%22%2Cc%5B7%5D%29%2Cv%264%26%26Q%28i%2C%22rotate%22%2Cc%5B2%5D%29%2Cv%261%26%26T%28i%2C%22visibility%22%2Cc%5B0%5D.children.length%3E0%3F%22visible%22%3A%22hidden%22%29%2Cv%2632%26%26q%28o%2Cc%5B5%5D%29%2Cv%26128%26%26T%28r%2C%22color%22%2Cc%5B7%5D%29%2Cv%261%26%26T%28r%2C%22font-weight%22%2Cc%5B0%5D.proportionOfTotal%3C.2%3F500%3A600%29%2Cv%2616%26%26q%28h%2Cc%5B4%5D%29%2Cv%261%26%26Q%28e%2C%22application-code%22%2Cc%5B0%5D.isApplicationCode%29%2Cv%264%26%26Q%28e%2C%22children-visible%22%2Cc%5B2%5D%29%2Cv%262%26%26T%28e%2C%22padding-left%22%2C%60%24%7Bc%5B1%5D%2A35%7Dpx%60%29%7D%2Cd%28c%29%7Bc%26%26N%28e%29%2Cb%3D%211%2CF%28%29%7D%7D%7Dfunction%20Ne%28t%29%7Blet%20e%2Ci%2Cn%2Cs%2Cu%3Dt%5B0%5D.group.frames.length%2B%22%22%2Cr%2Co%2Ca%2Cl%2Ch%2Cp%3Breturn%7Bc%28%29%7Be%3D_%28%22div%22%29%2Ci%3D_%28%22div%22%29%2Cn%3D_%28%22div%22%29%2Cn.innerHTML%3D%27%3Csvg%20width%3D%226%22%20height%3D%2210%22%3E%3Cpath%20d%3D%22M.937-.016L5.793%204.84.937%209.696z%22%20fill%3D%22%23FFF%22%20fill-rule%3D%22evenodd%22%20fill-opacity%3D%22.582%22%3E%3C/path%3E%3C/svg%3E%27%2Cs%3Dw%28%29%2Cr%3DL%28u%29%2Co%3DL%28%60%20frames%20hidden%0A%20%20%20%20%20%20%20%20%28%60%29%2Ca%3DL%28t%5B6%5D%29%2Cl%3DL%28%22%29%22%29%2Cm%28n%2C%22class%22%2C%22group-triangle%20svelte-1aphj50%22%29%2CQ%28n%2C%22rotate%22%2Ct%5B8%5D%29%2Cm%28i%2C%22class%22%2C%22group-header-button%20svelte-1aphj50%22%29%2Cm%28e%2C%22class%22%2C%22group-header%20svelte-1aphj50%22%29%2CT%28e%2C%22padding-left%22%2C%60%24%7Bt%5B1%5D%2A35%7Dpx%60%29%7D%2Cm%28d%2Cg%29%7BX%28d%2Ce%2Cg%29%2Cf%28e%2Ci%29%2Cf%28i%2Cn%29%2Cf%28i%2Cs%29%2Cf%28i%2Cr%29%2Cf%28i%2Co%29%2Cf%28i%2Ca%29%2Cf%28i%2Cl%29%2Ch%7C%7C%28p%3DW%28e%2C%22click%22%2CEe%28Ce%28t%5B11%5D%29%29%29%2Ch%3D%210%29%7D%2Cp%28d%2Cg%29%7Bg%26256%26%26Q%28n%2C%22rotate%22%2Cd%5B8%5D%29%2Cg%261%26%26u%21%3D%3D%28u%3Dd%5B0%5D.group.frames.length%2B%22%22%29%26%26q%28r%2Cu%29%2Cg%2664%26%26q%28a%2Cd%5B6%5D%29%2Cg%262%26%26T%28e%2C%22padding-left%22%2C%60%24%7Bd%5B1%5D%2A35%7Dpx%60%29%7D%2Cd%28d%29%7Bd%26%26N%28e%29%2Ch%3D%211%2Cp%28%29%7D%7D%7Dfunction%20ze%28t%29%7Blet%20e%3D%5B%5D%2Ci%3Dnew%20Map%2Cn%2Cs%2Cu%3Dt%5B0%5D.children%3Bconst%20r%3Do%3D%3Eo%5B14%5D.identifier%3Bfor%28let%20o%3D0%3Bo%3Cu.length%3Bo%2B%3D1%29%7Blet%20a%3DMe%28t%2Cu%2Co%29%2Cl%3Dr%28a%29%3Bi.set%28l%2Ce%5Bo%5D%3DBe%28l%2Ca%29%29%7Dreturn%7Bc%28%29%7Bfor%28let%20o%3D0%3Bo%3Ce.length%3Bo%2B%3D1%29e%5Bo%5D.c%28%29%3Bn%3Dye%28%29%7D%2Cm%28o%2Ca%29%7Bfor%28let%20l%3D0%3Bl%3Ce.length%3Bl%2B%3D1%29e%5Bl%5D.m%28o%2Ca%29%3BX%28o%2Cn%2Ca%29%2Cs%3D%210%7D%2Cp%28o%2Ca%29%7Ba%2611%26%26%28u%3Do%5B0%5D.children%2Cce%28%29%2Ce%3DKe%28e%2Ca%2Cr%2C1%2Co%2Cu%2Ci%2Cn.parentNode%2CJe%2CBe%2Cn%2CMe%29%2Cde%28%29%29%7D%2Ci%28o%29%7Bif%28%21s%29%7Bfor%28let%20a%3D0%3Ba%3Cu.length%3Ba%2B%3D1%29D%28e%5Ba%5D%29%3Bs%3D%210%7D%7D%2Co%28o%29%7Bfor%28let%20a%3D0%3Ba%3Ce.length%3Ba%2B%3D1%29z%28e%5Ba%5D%29%3Bs%3D%211%7D%2Cd%28o%29%7Bfor%28let%20a%3D0%3Ba%3Ce.length%3Ba%2B%3D1%29e%5Ba%5D.d%28o%29%3Bo%26%26N%28n%29%7D%7D%7Dfunction%20Be%28t%2Ce%29%7Blet%20i%2Cn%2Cs%3Breturn%20n%3Dnew%20He%28%7Bprops%3A%7Bframe%3Ae%5B14%5D%2Cindent%3Ae%5B1%5D%2B%28e%5B3%5D%3F1%3A0%29%7D%7D%29%2C%7Bkey%3At%2Cfirst%3Anull%2Cc%28%29%7Bi%3Dye%28%29%2Cpe%28n.%24%24.fragment%29%2Cthis.first%3Di%7D%2Cm%28u%2Cr%29%7BX%28u%2Ci%2Cr%29%2Cte%28n%2Cu%2Cr%29%2Cs%3D%210%7D%2Cp%28u%2Cr%29%7Be%3Du%3Bconst%20o%3D%7B%7D%3Br%261%26%26%28o.frame%3De%5B14%5D%29%2Cr%2610%26%26%28o.indent%3De%5B1%5D%2B%28e%5B3%5D%3F1%3A0%29%29%2Cn.%24set%28o%29%7D%2Ci%28u%29%7Bs%7C%7C%28D%28n.%24%24.fragment%2Cu%29%2Cs%3D%210%29%7D%2Co%28u%29%7Bz%28n.%24%24.fragment%2Cu%29%2Cs%3D%211%7D%2Cd%28u%29%7Bu%26%26N%28i%29%2Cie%28n%2Cu%29%7D%7D%7Dfunction%20tt%28t%29%7Blet%20e%2Ci%2Cn%2Cs%2Cu%2Cr%2Co%3Dt%5B3%5D%26%26Le%28t%29%2Ca%3Dt%5B0%5D.group%26%26t%5B0%5D.group.rootFrame%3D%3Dt%5B0%5D%26%26t%5B2%5D%26%26Ne%28t%29%2Cl%3Dt%5B2%5D%26%26ze%28t%29%3Breturn%7Bc%28%29%7Be%3D_%28%22div%22%29%2Co%26%26o.c%28%29%2Ci%3Dw%28%29%2Ca%26%26a.c%28%29%2Cn%3Dw%28%29%2Cl%26%26l.c%28%29%2Cs%3Dw%28%29%2Cu%3D_%28%22div%22%29%2Cm%28u%2C%22class%22%2C%22visual-guide%22%29%2CT%28u%2C%22left%22%2C%60%24%7Bt%5B1%5D%2A35%2B21%7Dpx%60%29%2CT%28u%2C%22backgroundColor%22%2Ct%5B7%5D%29%2Cm%28e%2C%22class%22%2C%22frame%20svelte-1aphj50%22%29%7D%2Cm%28h%2Cp%29%7BX%28h%2Ce%2Cp%29%2Co%26%26o.m%28e%2Cnull%29%2Cf%28e%2Ci%29%2Ca%26%26a.m%28e%2Cnull%29%2Cf%28e%2Cn%29%2Cl%26%26l.m%28e%2Cnull%29%2Cf%28e%2Cs%29%2Cf%28e%2Cu%29%2Cr%3D%210%7D%2Cp%28h%2C%5Bp%5D%29%7Bh%5B3%5D%3Fo%3Fo.p%28h%2Cp%29%3A%28o%3DLe%28h%29%2Co.c%28%29%2Co.m%28e%2Ci%29%29%3Ao%26%26%28o.d%281%29%2Co%3Dnull%29%2Ch%5B0%5D.group%26%26h%5B0%5D.group.rootFrame%3D%3Dh%5B0%5D%26%26h%5B2%5D%3Fa%3Fa.p%28h%2Cp%29%3A%28a%3DNe%28h%29%2Ca.c%28%29%2Ca.m%28e%2Cn%29%29%3Aa%26%26%28a.d%281%29%2Ca%3Dnull%29%2Ch%5B2%5D%3Fl%3F%28l.p%28h%2Cp%29%2Cp%264%26%26D%28l%2C1%29%29%3A%28l%3Dze%28h%29%2Cl.c%28%29%2CD%28l%2C1%29%2Cl.m%28e%2Cs%29%29%3Al%26%26%28ce%28%29%2Cz%28l%2C1%2C1%2C%28%29%3D%3E%7Bl%3Dnull%7D%29%2Cde%28%29%29%2Cp%262%26%26T%28u%2C%22left%22%2C%60%24%7Bh%5B1%5D%2A35%2B21%7Dpx%60%29%2Cp%26128%26%26T%28u%2C%22backgroundColor%22%2Ch%5B7%5D%29%7D%2Ci%28h%29%7Br%7C%7C%28D%28l%29%2Cr%3D%210%29%7D%2Co%28h%29%7Bz%28l%29%2Cr%3D%211%7D%2Cd%28h%29%7Bh%26%26N%28e%29%2Co%26%26o.d%28%29%2Ca%26%26a.d%28%29%2Cl%26%26l.d%28%29%7D%7D%7Dfunction%20it%28t%2Ce%2Ci%29%7Blet%20n%2Cs%2Cu%3Bse%28t%2CDe%2Cc%3D%3Ei%2812%2Cs%3Dc%29%29%2Cse%28t%2Cne%2Cc%3D%3Ei%2813%2Cu%3Dc%29%29%3Blet%7Bframe%3Ar%7D%3De%2C%7Bindent%3Ao%3D0%7D%3De%2Ca%3D%210%2Cl%2Ch%3Br.className%3Fh%3D%60%24%7Br.className%7D.%24%7Br.function%7D%60%3Ah%3Dr.function%3Bconst%20p%3D%60%24%7Br.filePathShort%7D%3A%24%7Br.lineNo.toString%28%29.padEnd%284%2C%22%5CxA0%22%29%7D%60%3Blet%20d%2Cg%3Dnull%3Bif%28r.group%29%7Bconst%20c%3Dr.group.libraries%3Bc.length%3C4%3Fg%3Dc.join%28%22%2C%20%22%29%3Ag%3D%60%24%7Bc%5B0%5D%7D%2C%20%24%7Bc%5B1%5D%7D%2C%20%24%7Bc%5B2%5D%7D...%60%7Dlet%20A%3Br.proportionOfTotal%3E.6%3FA%3D%22%23FF4159%22%3Ar.proportionOfTotal%3E.3%3FA%3D%22%23F5A623%22%3Ar.proportionOfTotal%3E.2%3FA%3D%22%23D8CB2A%22%3AA%3D%22%237ED321%22%3Bfunction%20b%28%29%7Bi%282%2Ca%3D%21a%29%7Dfunction%20F%28%29%7BDe.update%28c%3D%3E%7Bvar%20v%3Breturn%7B...c%2C%5B%28v%3Dr.groupId%29%21%3Dnull%3Fv%3A%22%22%5D%3A%21n%7D%7D%29%7Dreturn%20t.%24%24set%3Dc%3D%3E%7B%22frame%22in%20c%26%26i%280%2Cr%3Dc.frame%29%2C%22indent%22in%20c%26%26i%281%2Co%3Dc.indent%29%7D%2Ct.%24%24.update%3D%28%29%3D%3E%7Bvar%20c%2Cv%2C%24%3Bif%28t.%24%24.dirty%264097%26%26%28r.group%3Fs%5B%28c%3Dr.groupId%29%21%3Dnull%3Fc%3A%22%22%5D%7C%7C%28%28v%3Dr.group%29%3D%3Dnull%3Fvoid%200%3Av.rootFrame%29%3D%3D%3Dr%7C%7Cr.children.filter%28M%3D%3E%21M.group%29.length%3E1%3Fi%283%2Cl%3D%210%29%3Ai%283%2Cl%3D%211%29%3Ai%283%2Cl%3D%210%29%29%2Ct.%24%24.dirty%268193%29if%28u%3D%3D%3D%22absolute%22%29i%285%2Cd%3Dr.time.toLocaleString%28void%200%2C%7BminimumFractionDigits%3A3%2CmaximumFractionDigits%3A3%7D%29%29%3Belse%20if%28u%3D%3D%3D%22proportion%22%29i%285%2Cd%3D%60%24%7B%28r.proportionOfTotal%2A100%29.toLocaleString%28void%200%2C%7BminimumFractionDigits%3A1%2CmaximumFractionDigits%3A1%7D%29%7D%25%60%29%3Belse%20throw%20new%20Error%28%22unknown%20timeFormat%22%29%3Bt.%24%24.dirty%264097%26%26i%288%2Cn%3Ds%5B%28%24%3Dr.groupId%29%21%3Dnull%3F%24%3A%22%22%5D%3D%3D%3D%210%29%7D%2C%5Br%2Co%2Ca%2Cl%2Ch%2Cd%2Cg%2CA%2Cn%2Cp%2Cb%2CF%2Cs%2Cu%5D%7Dclass%20He%20extends%20he%7Bconstructor%28e%29%7Bsuper%28%29%2Cme%28this%2Ce%2Cit%2Ctt%2CK%2C%7Bframe%3A0%2Cindent%3A1%7D%29%7D%7Dconst%20nt%3D%22data%3Aimage/png%3Bbase64%2CiVBORw0KGgoAAAANSUhEUgAAACAAAAAgCAYAAABzenr0AAAABGdBTUEAALGPC/xhBQAAADhlWElmTU0AKgAAAAgAAYdpAAQAAAABAAAAGgAAAAAAAqACAAQAAAABAAAAIKADAAQAAAABAAAAIAAAAACPTkDJAAAFPklEQVRYCdWXu4skVRSHb3VXP2bcXUVMBkRMTVww2XQDExEEH4iKiUYGhuJEPgJhUSMzQQSDRVzETNDMTTfUwL/ARUwM1t3pV1WX33eqbnfP9MxOu5kHTt9T93F%2Bv3vOubeqi7QhT1%2B58vhiVn1G19WiaQ6KIqVQOmyT%2Bh9kuUxp2bAAtQkpij9pbw5G5fu/3br1x8ql4NW0%2BrVJzaN29nop9VUeCtoerXpMTj53g%2BAGcINR1YB3RIJMN6dIxd/luLxcZoftzltwAct%2BSiNGh2jJ84BnSQWJTeBNW2C0ZrvufrZA5y2JmuemWkfCjYq5IsC6q2iE2V0LuDdMaYxKZDxo%2ByS3JZkEY%2B5SsAU7P5q1qZNEAxnXGo0NubomQM4dWPnCMAU/fUCnoA7kFjPEPohuqfO6uc%2B%2B0xKSVHUcHDbNwZpAeFyHyMcg408G16mSnwW3b5OEz3rtCAyJnHUQUSEFmMdki0CMmsNOX/gkpf1RSpf223Q43jC2MMw4tFWsjwHzBngsIOT6CaEf7wGKrTo/agFbH8oWAQdkWTF5htGntSDn2h2YBTal/9603Z2%2B%2BswZ0%2B5BZIjdQwfUz5DcGwHVotSfdpYtAg7oUKzaycyo6PjmkA4cRmgBuf5zSj/80kbAuToaYHz9afdgCiCxJF3gpudfZampOyGnEwAwIkEbuROBXEauXZGdYzrEtFTTpx3zHGeewGoFcFxk2Cdlxempy8/oZyXm1KO3R14fIraPXEzpAnXgyVBmRMdjNgdVsqZgxLw9cl4C7m7N%2Bd17pOqIuaj2LKetQzs1Ai3E%2BreRJip4CSnz2wPYHC9wFL66MYko9k8pwgmAU4hqbxZhO6tNXba321V8Uvruc4ZzGgQxErnFNszqItqC0DdpTtzfeqWJ21DwpRp5WkOdHwFJqM4UMLcdeB2AADPUkigSm00VOZixsOL8WfUB3oWd4ZWcT8CpgLz2XkoPX%2BIgEIU%2Bq6K6QZqzqxoAr15vupqC8Air0wm7JwUL2AWJByIAuDXQEGZ1aegRASY4Ppq0AOZZIoZYsLh4zDsa4PSfeA%2BEn/tGQMI5ZTe%2BxClhN%2BQ5z4b67TfZJeATiAQw4J4KwTzCOfT2nSb3JRALAJTEfKPQcrGBG5GwwCLMRCRAXcgiQY1IYD8ogbzuDd5qF7gL%2Bp4ESM05Z//coWXH1oEE5oQkQPOi3EroDDk/Ai40Cp3SRE2AG%2B8MWyOk5h1j7ixnEogPD0dVcv/FVwXXLceKs20K5rCaFk06fKmOD424akkTXUFkVwanEtBZfH7hMK5eCEwBl0DNYHvJ0Idd4MHXr7djkGDtWQV3GqlTCRhybzqv1R4zbA/fXabRfhFAHkvflJO77XivuyElbRHG%2Bh3yL6EtAu4iPkoF5q4veRn1ecEUAwYg0pSyQwAoRk3qz4p4DS%2BwawpxSVHoY9cobBHQtxBBBMBrN/rkvOEC6lF0hF/nKvaS31yE155btLVAFKIidbSDbBMI9HaluzjC4ZKQWHieBIcVPqvbyg/b503Dh91kTcB/LH4Z6wmNI8X2PnyxTkPSUI7JP7MjvE5hTrwDuO%2BrLvT2uXxnAXNNgL9LLHxdB16jOi24XgOEK68EyMKMb/uYRERol1w%2BFmRN67XrWonsKDdzRNPmXzPjbEXHxwWttsCcwpXki8cte91afP7zkdQuYch/zSizVv66ffvOwZNPfLus/YNSPMYuLkZIda66yw3NzwHMeCOBXcBNdVH8OBiXLx/7c5qJrFrK/GOYfETH97Sr/jOM38FnvodDGv8f%2BRcj1XBLIcDKAQAAAABJRU5ErkJggg%3D%3D%22%2Cht%3D%22%22%3Bfunction%20rt%28t%29%7Blet%20e%3Breturn%7Bc%28%29%7Be%3D_%28%22div%22%29%2Ce.textContent%3D%22No%20samples%20recorded.%22%2Cm%28e%2C%22class%22%2C%22error%22%29%7D%2Cm%28i%2Cn%29%7BX%28i%2Ce%2Cn%29%7D%2Cp%3AC%2Ci%3AC%2Co%3AC%2Cd%28i%29%7Bi%26%26N%28e%29%7D%7D%7Dfunction%20lt%28t%29%7Blet%20e%2Ci%3Breturn%20e%3Dnew%20He%28%7Bprops%3A%7Bframe%3At%5B0%5D.rootFrame%7D%7D%29%2C%7Bc%28%29%7Bpe%28e.%24%24.fragment%29%7D%2Cm%28n%2Cs%29%7Bte%28e%2Cn%2Cs%29%2Ci%3D%210%7D%2Cp%28n%2Cs%29%7Bconst%20u%3D%7B%7D%3Bs%261%26%26%28u.frame%3Dn%5B0%5D.rootFrame%29%2Ce.%24set%28u%29%7D%2Ci%28n%29%7Bi%7C%7C%28D%28e.%24%24.fragment%2Cn%29%2Ci%3D%210%29%7D%2Co%28n%29%7Bz%28e.%24%24.fragment%2Cn%29%2Ci%3D%211%7D%2Cd%28n%29%7Bie%28e%2Cn%29%7D%7D%7Dfunction%20ot%28t%29%7Blet%20e%2Ci%2Cn%2Cs%2Cu%2Cr%2Co%2Ca%2Cl%2Ch%2Cp%2Cd%2Cg%3Bi%3Dnew%20et%28%7Bprops%3A%7Bsession%3At%5B0%5D%7D%7D%29%3Bconst%20A%3D%5Blt%2Crt%5D%2Cb%3D%5B%5D%3Bfunction%20F%28c%2Cv%29%7Breturn%20c%5B0%5D.rootFrame%3F0%3A1%7Dreturn%20p%3DF%28t%29%2Cd%3Db%5Bp%5D%3DA%5Bp%5D%28t%29%2C%7Bc%28%29%7Be%3D_%28%22div%22%29%2Cpe%28i.%24%24.fragment%29%2Cn%3Dw%28%29%2Cs%3D_%28%22div%22%29%2Cu%3Dw%28%29%2Cr%3D_%28%22div%22%29%2Co%3D_%28%22div%22%29%2Ca%3D_%28%22span%22%29%2Ca.textContent%3D%22Program%3A%5CxA0%22%2Cl%3DL%28t%5B1%5D%29%2Ch%3Dw%28%29%2Cd.c%28%29%2Cm%28s%2C%22class%22%2C%22spacer%22%29%2CT%28s%2C%22height%22%2C%2220px%22%29%2Cm%28a%2C%22class%22%2C%22label%20svelte-1gm5pcf%22%29%2Cm%28o%2C%22class%22%2C%22program%20svelte-1gm5pcf%22%29%2Cm%28r%2C%22class%22%2C%22margins%22%29%2Cm%28e%2C%22class%22%2C%22app%20svelte-1gm5pcf%22%29%7D%2Cm%28c%2Cv%29%7BX%28c%2Ce%2Cv%29%2Cte%28i%2Ce%2Cnull%29%2Cf%28e%2Cn%29%2Cf%28e%2Cs%29%2Cf%28e%2Cu%29%2Cf%28e%2Cr%29%2Cf%28r%2Co%29%2Cf%28o%2Ca%29%2Cf%28o%2Cl%29%2Cf%28r%2Ch%29%2Cb%5Bp%5D.m%28r%2Cnull%29%2Cg%3D%210%7D%2Cp%28c%2C%5Bv%5D%29%7Bconst%20%24%3D%7B%7D%3Bv%261%26%26%28%24.session%3Dc%5B0%5D%29%2Ci.%24set%28%24%29%2C%28%21g%7C%7Cv%262%29%26%26q%28l%2Cc%5B1%5D%29%3Blet%20M%3Dp%3Bp%3DF%28c%29%2Cp%3D%3D%3DM%3Fb%5Bp%5D.p%28c%2Cv%29%3A%28ce%28%29%2Cz%28b%5BM%5D%2C1%2C1%2C%28%29%3D%3E%7Bb%5BM%5D%3Dnull%7D%29%2Cde%28%29%2Cd%3Db%5Bp%5D%2Cd%3Fd.p%28c%2Cv%29%3A%28d%3Db%5Bp%5D%3DA%5Bp%5D%28c%29%2Cd.c%28%29%29%2CD%28d%2C1%29%2Cd.m%28r%2Cnull%29%29%7D%2Ci%28c%29%7Bg%7C%7C%28D%28i.%24%24.fragment%2Cc%29%2CD%28d%29%2Cg%3D%210%29%7D%2Co%28c%29%7Bz%28i.%24%24.fragment%2Cc%29%2Cz%28d%29%2Cg%3D%211%7D%2Cd%28c%29%7Bc%26%26N%28e%29%2Cie%28i%29%2Cb%5Bp%5D.d%28%29%7D%7D%7Dfunction%20ge%28%29%7Bdocument.body.style.minHeight%3D%60%24%7Bwindow.scrollY%2Bwindow.innerHeight%7Dpx%60%7Dfunction%20st%28t%2Ce%2Ci%29%7Blet%7Bsession%3An%7D%3De%3Bconst%20s%3Ddocument.createElement%28%22link%22%29%3Bs.rel%3D%22shortut%20icon%22%2Cs.href%3Dnt%2Cdocument.head.appendChild%28s%29%2Cqe%28%28%29%3D%3E%7Bwindow.addEventListener%28%22scroll%22%2Cge%29%2Cge%28%29%7D%29%2CUe%28%28%29%3D%3E%7Bwindow.removeEventListener%28%22scroll%22%2Cge%29%7D%29%3Bconst%20u%3Dn.rootFrame%2Cr%3Du%3D%3Dnull%3Fvoid%200%3Au.time.toLocaleString%28void%200%2C%7BmaximumSignificantDigits%3A3%7D%29%3Blet%20o%3Du%3D%3Dnull%3Fvoid%200%3Au.function%3Breturn%20o%3D%3D%22%3Cmodule%3E%22%26%26%28o%3Dn.program%29%2Cdocument.title%3D%60%24%7Br%7Ds%20-%20%24%7Bo%7D%20-%20pyinstrument%60%2Ct.%24%24set%3Da%3D%3E%7B%22session%22in%20a%26%26i%280%2Cn%3Da.session%29%7D%2C%5Bn%2Co%5D%7Dclass%20at%20extends%20he%7Bconstructor%28e%29%7Bsuper%28%29%2Cme%28this%2Ce%2Cst%2Cot%2CK%2C%7Bsession%3A0%7D%29%7D%7Dclass%20ut%7Bconstructor%28e%2Ci%29%7Bk%28this%2C%22id%22%29%3Bk%28this%2C%22rootFrame%22%29%3Bk%28this%2C%22frames%22%2C%5B%5D%29%3Bthis.id%3De%2Cthis.rootFrame%3Di%7DaddFrame%28e%29%7Bthis.frames.push%28e%29%7Dget%20exitFrames%28%29%7Bconst%20e%3D%5B%5D%3Bfor%28const%20i%20of%20this.frames%29%7Blet%20n%3D%211%3Bfor%28const%20s%20of%20i.children%29if%28s.group%21%3Dthis%29%7Bn%3D%210%3Bbreak%7Dn%26%26e.push%28i%29%7Dreturn%20e%7Dget%20libraries%28%29%7Bconst%20e%3D%5B%5D%3Bfor%28const%20i%20of%20this.frames%29%7Bconst%20n%3D/%5E%5B%5E%5C%5C/.%5D%2A/.exec%28i.filePathShort%29%5B0%5D%3Be.includes%28n%29%7C%7Ce.push%28n%29%7Dreturn%20e%7D%7Dclass%20_e%7Bconstructor%28e%2Ci%3Dnull%2Cn%3D%7Bgroups%3A%7B%7D%7D%29%7Bk%28this%2C%22function%22%29%3Bk%28this%2C%22filePath%22%29%3Bk%28this%2C%22filePathShort%22%29%3Bk%28this%2C%22lineNo%22%29%3Bk%28this%2C%22time%22%29%3Bk%28this%2C%22totalTime%22%29%3Bk%28this%2C%22awaitTime%22%29%3Bk%28this%2C%22isApplicationCode%22%29%3Bk%28this%2C%22groupId%22%29%3Bk%28this%2C%22className%22%29%3Bk%28this%2C%22parent%22%29%3Bk%28this%2C%22children%22%29%3Bk%28this%2C%22group%22%29%3Bvar%20s%2Cu%3Bif%28this.parent%3Di%2Cthis.function%3De.function%2Cthis.filePath%3De.file_path%2Cthis.filePathShort%3De.file_path_short%2Cthis.lineNo%3De.line_no%2Cthis.time%3De.time%2Cthis.totalTime%3Dthis.parent%3Fthis.parent.totalTime%3Athis.time%2Cthis.awaitTime%3De.await_time%2Cthis.isApplicationCode%3De.is_application_code%2Cthis.groupId%3D%28s%3De.group_id%29%21%3Dnull%3Fs%3Anull%2Cthis.className%3D%28u%3De.class_name%29%21%3Dnull%3Fu%3Anull%2Ce.group_id%29%7Bconst%20r%3De.group_id%3Blet%20o%3Dn.groups%5Br%5D%3Bo%7C%7C%28o%3Dn.groups%5Br%5D%3Dnew%20ut%28r%2Cthis%29%29%2Co.addFrame%28this%29%2Cthis.group%3Dn.groups%5Br%5D%7Delse%20this.group%3Dnull%3Bthis.children%3De.children.map%28r%3D%3Enew%20_e%28r%2Cthis%2Cn%29%29%7Dget%20identifier%28%29%7Breturn%60%24%7Bthis.function%7D%3A%24%7Bthis.filePath%7D%3A%24%7Bthis.lineNo%7D%60%7Dget%20proportionOfTotal%28%29%7Breturn%20this.time/this.totalTime%7D%7Dclass%20ft%7Bconstructor%28e%29%7Bk%28this%2C%22startTime%22%29%3Bk%28this%2C%22duration%22%29%3Bk%28this%2C%22sampleCount%22%29%3Bk%28this%2C%22program%22%29%3Bk%28this%2C%22cpuTime%22%29%3Bk%28this%2C%22rootFrame%22%29%3Bthis.startTime%3De.start_time%2Cthis.duration%3De.duration%2Cthis.sampleCount%3De.sample_count%2Cthis.program%3De.program%2Cthis.cpuTime%3De.cpu_time%2Cthis.rootFrame%3De.root_frame%3Fnew%20_e%28e.root_frame%29%3Anull%7D%7Dreturn%7Brender%28t%2Ce%29%7Bconst%20i%3Dnew%20ft%28e%29%3Breturn%20new%20at%28%7Btarget%3At%2Cprops%3A%7Bsession%3Ai%7D%7D%29%7D%7D%7D%28%29%3B%0A%3C/script%3E%0A%20%20%20%20%20%20%20%20%20%20%20%20%20%20%20%20%3Cstyle%3E%40import%22https%3A//fonts.googleapis.com/css%3Ffamily%3DSource%2BCode%2BPro%3A400%2C600%7CSource%2BSans%2BPro%3A400%2C600%22%3Bhtml%2Cbody%7Bbackground-color%3A%23303538%3Bcolor%3A%23fff%3Bpadding%3A0%3Bmargin%3A0%7D.margins%7Bpadding%3A0%2030px%7D.header.svelte-tewt95%7Bbackground%3A%23292f32%7D.row.svelte-tewt95%7Bdisplay%3Aflex%3Balign-items%3Acenter%7D.title.svelte-tewt95%7Bfont-size%3A34px%3Bpadding-top%3A20px%3Bpadding-bottom%3A16px%3Bwhite-space%3Anowrap%3Boverflow%3Ahidden%3Btext-overflow%3Aellipsis%3Bmargin-right%3A10px%3Bflex%3A1%7D.metrics.svelte-tewt95%7Bdisplay%3Agrid%3Bgrid-template-columns%3Aauto%20auto%20auto%20auto%20auto%20auto%3Bfont-size%3A14px%3Btext-transform%3Auppercase%3Bgrid-gap%3A1px%208px%7D.metric-label.svelte-tewt95%7Bfont-weight%3A600%3Bcolor%3A%23a9abad%7D.metric-value.svelte-tewt95%7Bcolor%3A%23737779%3Bmargin-right%3A.5em%7D.frame.svelte-1aphj50.svelte-1aphj50%7Bfont-family%3ASource%20Code%20Pro%2CRoboto%20Mono%2CConsolas%2CMonaco%2Cmonospace%3Bfont-size%3A15px%3Bz-index%3A0%3Bposition%3Arelative%3Buser-select%3Anone%7D.group-header.svelte-1aphj50.svelte-1aphj50%7Bmargin-left%3A35px%7D.group-header-button.svelte-1aphj50.svelte-1aphj50%7Bdisplay%3Ainline-block%3Bcolor%3A%23ffffff94%3Buser-select%3Anone%3Bcursor%3Adefault%3Bposition%3Arelative%7D.group-header-button.svelte-1aphj50.svelte-1aphj50%3Abefore%7Bposition%3Aabsolute%3Bleft%3A-3px%3Bright%3A-3px%3Btop%3A0px%3Bbottom%3A-1px%3Bcontent%3A%22%22%3Bz-index%3A-1%3Bbackground-color%3A%233b4043%7D.group-header-button.svelte-1aphj50.svelte-1aphj50%3Ahover%3Abefore%7Bbackground-color%3A%234a4f54%7D.group-triangle.svelte-1aphj50.svelte-1aphj50%2C.frame-triangle.svelte-1aphj50.svelte-1aphj50%7Bwidth%3A6px%3Bheight%3A10px%3Bpadding-left%3A6px%3Bpadding-right%3A5px%3Bdisplay%3Ainline-block%7D.group-triangle.rotate.svelte-1aphj50.svelte-1aphj50%2C.frame-triangle.rotate.svelte-1aphj50.svelte-1aphj50%7Btransform%3Atranslate%286px%2C4px%29%20rotate%2890deg%29%7D.frame-description.svelte-1aphj50.svelte-1aphj50%7Bdisplay%3Aflex%7D.frame-description.svelte-1aphj50.svelte-1aphj50%3Ahover%3Abefore%7Bposition%3Aabsolute%3Bleft%3A-3px%3Bright%3A-3px%3Btop%3A-1px%3Bheight%3A22px%3Bcontent%3A%22%22%3Bz-index%3A-1%3Bbackground-color%3A%23354759%3Bopacity%3A.5%7D.frame-triangle.svelte-1aphj50.svelte-1aphj50%7Bopacity%3A1%7D.frame-description.children-visible.svelte-1aphj50%20.frame-triangle.svelte-1aphj50%7Bopacity%3A0%7D.frame-description.children-visible.svelte-1aphj50%3Ahover%20.frame-triangle.svelte-1aphj50%7Bopacity%3A1%7D.name.svelte-1aphj50.svelte-1aphj50%2C.time.svelte-1aphj50.svelte-1aphj50%2C.code-position.svelte-1aphj50.svelte-1aphj50%7Buser-select%3Atext%3Bcursor%3Adefault%7D.application-code.svelte-1aphj50%20.name.svelte-1aphj50%7Bcolor%3A%235db3ff%7D.time.svelte-1aphj50.svelte-1aphj50%7Bmargin-right%3A.55em%3Bcolor%3A%23b8e98685%7D.code-position.svelte-1aphj50.svelte-1aphj50%7Bcolor%3A%23ffffff80%3Btext-align%3Aright%3Bmargin-left%3A1em%7D.visual-guide%7Btop%3A21px%3Bbottom%3A0%3Bleft%3A0%3Bwidth%3A2px%3Bbackground-color%3A%23fff%3Bposition%3Aabsolute%3Bopacity%3A.08%7D.frame-description%3Ahover~.visual-guide%7Bopacity%3A.4%7D.frame-description%3Ahover~.children%20.visual-guide%7Bopacity%3A.1%7D.app.svelte-1gm5pcf.svelte-1gm5pcf%7Bfont-family%3ASource%20Sans%20Pro%2CHelvetica%2CArial%2Csans-serif%3B-webkit-font-smoothing%3Aantialiased%3B-moz-osx-font-smoothing%3Agrayscale%7D.program.svelte-1gm5pcf.svelte-1gm5pcf%7Bfont-size%3A14px%3Bfont-weight%3A600%3Bmargin-bottom%3A16px%3Bcolor%3A%23b4b4b4%7D.program.svelte-1gm5pcf%20.label.svelte-1gm5pcf%7Bcolor%3A%23eaeaea%3Btext-transform%3Auppercase%7D%0A%3C/style%3E%0A%0A%20%20%20%20%20%20%20%20%20%20%20%20%20%20%20%20%3Cscript%3E%0A%20%20%20%20%20%20%20%20%20%20%20%20%20%20%20%20%20%20%20%20const%20sessionData%20%3D%20%7B%22start_time%22%3A%201711414214.948840%2C%22duration%22%3A%201.001117%2C%22sample_count%22%3A%201%2C%22program%22%3A%20%22/usr/local/lib/python3.10/dist-packages/colab_kernel_launcher.py%20-f%20/root/.local/share/jupyter/runtime/kernel-937b32cf-ca7d-4633-8578-da60c251715f.json%22%2C%22cpu_time%22%3A%200.010281%2C%22root_frame%22%3A%20%7B%22function%22%3A%20%22%3Ccell%20line%3A%202%3E%22%2C%22file_path_short%22%3A%20%22%3Cipython-input-17-c674b31f552f%3E%22%2C%22file_path%22%3A%20%22%3Cipython-input-17-c674b31f552f%3E%22%2C%22line_no%22%3A%201%2C%22time%22%3A%201.000661%2C%22await_time%22%3A%200.000000%2C%22is_application_code%22%3A%20true%2C%22children%22%3A%20%5B%7B%22function%22%3A%20%22mi_funcion%22%2C%22file_path_short%22%3A%20%22%3Cipython-input-17-c674b31f552f%3E%22%2C%22file_path%22%3A%20%22%3Cipython-input-17-c674b31f552f%3E%22%2C%22line_no%22%3A%203%2C%22time%22%3A%201.000661%2C%22await_time%22%3A%200.000000%2C%22is_application_code%22%3A%20true%2C%22children%22%3A%20%5B%7B%22function%22%3A%20%22sleep%22%2C%22file_path_short%22%3A%20%22%3Cbuilt-in%3E%22%2C%22file_path%22%3A%20%22%3Cbuilt-in%3E%22%2C%22line_no%22%3A%200%2C%22time%22%3A%201.000661%2C%22await_time%22%3A%200.000000%2C%22is_application_code%22%3A%20false%2C%22children%22%3A%20%5B%5D%7D%5D%7D%5D%7D%7D%0A%3B%0A%20%20%20%20%20%20%20%20%20%20%20%20%20%20%20%20%20%20%20%20pyinstrumentHTMLRenderer.render%28document.getElementById%28%27app%27%29%2C%20sessionData%29%3B%0A%20%20%20%20%20%20%20%20%20%20%20%20%20%20%20%20%3C/script%3E%0A%20%20%20%20%20%20%20%20%20%20%20%20%3C/body%3E%0A%20%20%20%20%20%20%20%20%20%20%20%20%3C/html%3E%0A%20%20%20%20%20%20%20%20\"\n",
              "            frameborder=\"0\"\n",
              "            allowfullscreen\n",
              "            style=\"resize: vertical\"\n",
              "        ></iframe>\n",
              "        "
            ],
            "text/plain": [
              "\n",
              "  _     ._   __/__   _ _  _  _ _/_   Recorded: 00:50:14  Samples:  1\n",
              " /_//_/// /_\\ / //_// / //_'/ //     Duration: 1.001     CPU time: 0.010\n",
              "/   _/                      v4.6.2\n",
              "\n",
              "Program: /usr/local/lib/python3.10/dist-packages/colab_kernel_launcher.py -f /root/.local/share/jupyter/runtime/kernel-937b32cf-ca7d-4633-8578-da60c251715f.json\n",
              "\n",
              "1.001 <cell line: 2>  <ipython-input-17-c674b31f552f>:1\n",
              "`- 1.001 mi_funcion  <ipython-input-17-c674b31f552f>:3\n",
              "   `- 1.001 sleep  <built-in>\n",
              "\n"
            ]
          },
          "metadata": {}
        }
      ]
    },
    {
      "cell_type": "code",
      "source": [
        "!pip install memory_profiler\n",
        "!pip install matplotlib"
      ],
      "metadata": {
        "colab": {
          "base_uri": "https://localhost:8080/"
        },
        "id": "yA387Fr4Pc4Y",
        "outputId": "faf555c3-3cac-4877-c623-2f87b78ec46c"
      },
      "execution_count": 18,
      "outputs": [
        {
          "output_type": "stream",
          "name": "stdout",
          "text": [
            "Collecting memory_profiler\n",
            "  Downloading memory_profiler-0.61.0-py3-none-any.whl (31 kB)\n",
            "Requirement already satisfied: psutil in /usr/local/lib/python3.10/dist-packages (from memory_profiler) (5.9.5)\n",
            "Installing collected packages: memory_profiler\n",
            "Successfully installed memory_profiler-0.61.0\n",
            "Requirement already satisfied: matplotlib in /usr/local/lib/python3.10/dist-packages (3.7.1)\n",
            "Requirement already satisfied: contourpy>=1.0.1 in /usr/local/lib/python3.10/dist-packages (from matplotlib) (1.2.0)\n",
            "Requirement already satisfied: cycler>=0.10 in /usr/local/lib/python3.10/dist-packages (from matplotlib) (0.12.1)\n",
            "Requirement already satisfied: fonttools>=4.22.0 in /usr/local/lib/python3.10/dist-packages (from matplotlib) (4.50.0)\n",
            "Requirement already satisfied: kiwisolver>=1.0.1 in /usr/local/lib/python3.10/dist-packages (from matplotlib) (1.4.5)\n",
            "Requirement already satisfied: numpy>=1.20 in /usr/local/lib/python3.10/dist-packages (from matplotlib) (1.25.2)\n",
            "Requirement already satisfied: packaging>=20.0 in /usr/local/lib/python3.10/dist-packages (from matplotlib) (24.0)\n",
            "Requirement already satisfied: pillow>=6.2.0 in /usr/local/lib/python3.10/dist-packages (from matplotlib) (9.4.0)\n",
            "Requirement already satisfied: pyparsing>=2.3.1 in /usr/local/lib/python3.10/dist-packages (from matplotlib) (3.1.2)\n",
            "Requirement already satisfied: python-dateutil>=2.7 in /usr/local/lib/python3.10/dist-packages (from matplotlib) (2.8.2)\n",
            "Requirement already satisfied: six>=1.5 in /usr/local/lib/python3.10/dist-packages (from python-dateutil>=2.7->matplotlib) (1.16.0)\n"
          ]
        }
      ]
    },
    {
      "cell_type": "code",
      "source": [
        "!python -m memory_profiler algoritmo1.py"
      ],
      "metadata": {
        "colab": {
          "base_uri": "https://localhost:8080/"
        },
        "id": "-4XLh6pxSBNu",
        "outputId": "dc1cbfed-6cb0-4ac8-9357-6b40778d5a0d"
      },
      "execution_count": 21,
      "outputs": [
        {
          "output_type": "stream",
          "name": "stdout",
          "text": [
            "2\n",
            "Filename: algoritmo1.py\n",
            "\n",
            "Line #    Mem usage    Increment  Occurrences   Line Contents\n",
            "=============================================================\n",
            "     4     37.0 MiB     37.0 MiB           1   @profile\n",
            "     5                                         def imprimir(lista):\n",
            "     6     37.0 MiB      0.0 MiB           1       n = lista\n",
            "     7     37.0 MiB      0.0 MiB           1       print(lista)\n",
            "\n",
            "\n"
          ]
        }
      ]
    },
    {
      "cell_type": "code",
      "source": [
        "!python -m memory_profiler algoritmo2.py"
      ],
      "metadata": {
        "colab": {
          "base_uri": "https://localhost:8080/"
        },
        "id": "DIiVg9AuSNjs",
        "outputId": "b7bf4cc8-792b-4742-d4e5-dd476cee4072"
      },
      "execution_count": 22,
      "outputs": [
        {
          "output_type": "stream",
          "name": "stdout",
          "text": [
            "Filename: algoritmo2.py\n",
            "\n",
            "Line #    Mem usage    Increment  Occurrences   Line Contents\n",
            "=============================================================\n",
            "     3     36.8 MiB     36.8 MiB           1   @profile\n",
            "     4                                         def mi_algoritmo(n):\n",
            "     5     36.8 MiB      0.0 MiB           1       lista = list(range(n))\n",
            "     6     36.8 MiB      0.0 MiB           1       pares = []\n",
            "     7    106.5 MiB      0.0 MiB        1001       for i in lista:\n",
            "     8    106.5 MiB     59.0 MiB     1001000           for j in lista:\n",
            "     9    106.5 MiB     10.7 MiB     1000000               pares.append((i, j))\n",
            "    10    106.5 MiB      0.0 MiB           1       return pares\n",
            "\n",
            "\n"
          ]
        }
      ]
    },
    {
      "cell_type": "code",
      "source": [
        "!python -m memory_profiler algoritmo3.py"
      ],
      "metadata": {
        "colab": {
          "base_uri": "https://localhost:8080/"
        },
        "id": "w-77T4a1TP-E",
        "outputId": "da133f56-f3f3-465c-a8c3-1a650723b27e"
      },
      "execution_count": 23,
      "outputs": [
        {
          "output_type": "stream",
          "name": "stdout",
          "text": [
            "Pico 1: Operación intensiva en memoria\n",
            "Filename: algoritmo3.py\n",
            "\n",
            "Line #    Mem usage    Increment  Occurrences   Line Contents\n",
            "=============================================================\n",
            "     5     36.8 MiB     36.8 MiB           1   @profile\n",
            "     6                                         def operacion_intensiva_memoria(n):\n",
            "     7                                             \"\"\"Operación que genera un gran uso de memoria temporalmente.\"\"\"\n",
            "     8     56.8 MiB     20.0 MiB      500003       gran_lista = [random.random() for _ in range(n)]\n",
            "     9     56.8 MiB      0.0 MiB           1       time.sleep(1)  # Simulamos un procesamiento\n",
            "    10     56.8 MiB      0.0 MiB           1       return sum(gran_lista)\n",
            "\n",
            "\n",
            "Pico 1: Operación intensiva en CPU\n",
            "Filename: algoritmo3.py\n",
            "\n",
            "Line #    Mem usage    Increment  Occurrences   Line Contents\n",
            "=============================================================\n",
            "    12     39.2 MiB     39.2 MiB           1   @profile\n",
            "    13                                         def operacion_intensiva_cpu(n):\n",
            "    14                                             \"\"\"Operación que consume tiempo de CPU.\"\"\"\n",
            "    15     39.2 MiB      0.0 MiB           1       contador = 0\n",
            "    16     39.2 MiB      0.0 MiB         101       for _ in range(n):\n",
            "    17     39.2 MiB      0.0 MiB         100           contador += random.random()\n",
            "    18     39.2 MiB      0.0 MiB         100           time.sleep(0.01)  # Añade un pequeño retardo para simular procesamiento\n",
            "\n",
            "\n",
            "Pico 2: Operación intensiva en memoria\n",
            "Filename: algoritmo3.py\n",
            "\n",
            "Line #    Mem usage    Increment  Occurrences   Line Contents\n",
            "=============================================================\n",
            "     5     39.2 MiB     39.2 MiB           1   @profile\n",
            "     6                                         def operacion_intensiva_memoria(n):\n",
            "     7                                             \"\"\"Operación que genera un gran uso de memoria temporalmente.\"\"\"\n",
            "     8     55.9 MiB     16.8 MiB      500003       gran_lista = [random.random() for _ in range(n)]\n",
            "     9     55.9 MiB      0.0 MiB           1       time.sleep(1)  # Simulamos un procesamiento\n",
            "    10     55.9 MiB      0.0 MiB           1       return sum(gran_lista)\n",
            "\n",
            "\n",
            "Pico 2: Operación intensiva en CPU\n",
            "Filename: algoritmo3.py\n",
            "\n",
            "Line #    Mem usage    Increment  Occurrences   Line Contents\n",
            "=============================================================\n",
            "    12     42.2 MiB     42.2 MiB           1   @profile\n",
            "    13                                         def operacion_intensiva_cpu(n):\n",
            "    14                                             \"\"\"Operación que consume tiempo de CPU.\"\"\"\n",
            "    15     42.2 MiB      0.0 MiB           1       contador = 0\n",
            "    16     42.2 MiB      0.0 MiB         101       for _ in range(n):\n",
            "    17     42.2 MiB      0.0 MiB         100           contador += random.random()\n",
            "    18     42.2 MiB      0.0 MiB         100           time.sleep(0.01)  # Añade un pequeño retardo para simular procesamiento\n",
            "\n",
            "\n",
            "Pico 3: Operación intensiva en memoria\n",
            "Filename: algoritmo3.py\n",
            "\n",
            "Line #    Mem usage    Increment  Occurrences   Line Contents\n",
            "=============================================================\n",
            "     5     42.2 MiB     42.2 MiB           1   @profile\n",
            "     6                                         def operacion_intensiva_memoria(n):\n",
            "     7                                             \"\"\"Operación que genera un gran uso de memoria temporalmente.\"\"\"\n",
            "     8     56.1 MiB     13.9 MiB      500003       gran_lista = [random.random() for _ in range(n)]\n",
            "     9     56.1 MiB      0.0 MiB           1       time.sleep(1)  # Simulamos un procesamiento\n",
            "    10     56.1 MiB      0.0 MiB           1       return sum(gran_lista)\n",
            "\n",
            "\n",
            "Pico 3: Operación intensiva en CPU\n",
            "Filename: algoritmo3.py\n",
            "\n",
            "Line #    Mem usage    Increment  Occurrences   Line Contents\n",
            "=============================================================\n",
            "    12     42.2 MiB     42.2 MiB           1   @profile\n",
            "    13                                         def operacion_intensiva_cpu(n):\n",
            "    14                                             \"\"\"Operación que consume tiempo de CPU.\"\"\"\n",
            "    15     42.2 MiB      0.0 MiB           1       contador = 0\n",
            "    16     42.2 MiB      0.0 MiB         101       for _ in range(n):\n",
            "    17     42.2 MiB      0.0 MiB         100           contador += random.random()\n",
            "    18     42.2 MiB      0.0 MiB         100           time.sleep(0.01)  # Añade un pequeño retardo para simular procesamiento\n",
            "\n",
            "\n",
            "Pico 4: Operación intensiva en memoria\n",
            "Filename: algoritmo3.py\n",
            "\n",
            "Line #    Mem usage    Increment  Occurrences   Line Contents\n",
            "=============================================================\n",
            "     5     42.2 MiB     42.2 MiB           1   @profile\n",
            "     6                                         def operacion_intensiva_memoria(n):\n",
            "     7                                             \"\"\"Operación que genera un gran uso de memoria temporalmente.\"\"\"\n",
            "     8     56.1 MiB     13.9 MiB      500003       gran_lista = [random.random() for _ in range(n)]\n",
            "     9     56.1 MiB      0.0 MiB           1       time.sleep(1)  # Simulamos un procesamiento\n",
            "    10     56.1 MiB      0.0 MiB           1       return sum(gran_lista)\n",
            "\n",
            "\n",
            "Pico 4: Operación intensiva en CPU\n",
            "Filename: algoritmo3.py\n",
            "\n",
            "Line #    Mem usage    Increment  Occurrences   Line Contents\n",
            "=============================================================\n",
            "    12     42.2 MiB     42.2 MiB           1   @profile\n",
            "    13                                         def operacion_intensiva_cpu(n):\n",
            "    14                                             \"\"\"Operación que consume tiempo de CPU.\"\"\"\n",
            "    15     42.2 MiB      0.0 MiB           1       contador = 0\n",
            "    16     42.2 MiB      0.0 MiB         101       for _ in range(n):\n",
            "    17     42.2 MiB      0.0 MiB         100           contador += random.random()\n",
            "    18     42.2 MiB      0.0 MiB         100           time.sleep(0.01)  # Añade un pequeño retardo para simular procesamiento\n",
            "\n",
            "\n",
            "Pico 5: Operación intensiva en memoria\n",
            "Filename: algoritmo3.py\n",
            "\n",
            "Line #    Mem usage    Increment  Occurrences   Line Contents\n",
            "=============================================================\n",
            "     5     42.2 MiB     42.2 MiB           1   @profile\n",
            "     6                                         def operacion_intensiva_memoria(n):\n",
            "     7                                             \"\"\"Operación que genera un gran uso de memoria temporalmente.\"\"\"\n",
            "     8     56.1 MiB     13.9 MiB      500003       gran_lista = [random.random() for _ in range(n)]\n",
            "     9     56.1 MiB      0.0 MiB           1       time.sleep(1)  # Simulamos un procesamiento\n",
            "    10     56.1 MiB      0.0 MiB           1       return sum(gran_lista)\n",
            "\n",
            "\n",
            "Pico 5: Operación intensiva en CPU\n",
            "Filename: algoritmo3.py\n",
            "\n",
            "Line #    Mem usage    Increment  Occurrences   Line Contents\n",
            "=============================================================\n",
            "    12     42.2 MiB     42.2 MiB           1   @profile\n",
            "    13                                         def operacion_intensiva_cpu(n):\n",
            "    14                                             \"\"\"Operación que consume tiempo de CPU.\"\"\"\n",
            "    15     42.2 MiB      0.0 MiB           1       contador = 0\n",
            "    16     42.2 MiB      0.0 MiB         101       for _ in range(n):\n",
            "    17     42.2 MiB      0.0 MiB         100           contador += random.random()\n",
            "    18     42.2 MiB      0.0 MiB         100           time.sleep(0.01)  # Añade un pequeño retardo para simular procesamiento\n",
            "\n",
            "\n"
          ]
        }
      ]
    },
    {
      "cell_type": "code",
      "source": [
        "!python -m memory_profiler algoritmo2.py"
      ],
      "metadata": {
        "colab": {
          "base_uri": "https://localhost:8080/"
        },
        "id": "LldM0fhyTSvr",
        "outputId": "7c132f49-1f34-4118-f3d1-beeae339f2e4"
      },
      "execution_count": 33,
      "outputs": [
        {
          "output_type": "stream",
          "name": "stdout",
          "text": [
            "Filename: algoritmo2.py\n",
            "\n",
            "Line #    Mem usage    Increment  Occurrences   Line Contents\n",
            "=============================================================\n",
            "     3     37.0 MiB     37.0 MiB           1   @profile\n",
            "     4                                         def mi_algoritmo(n):\n",
            "     5     37.0 MiB      0.0 MiB           1       lista = list(range(n))\n",
            "     6     37.0 MiB      0.0 MiB           1       pares = []\n",
            "     7    106.7 MiB      0.0 MiB        1001       for i in lista:\n",
            "     8    106.7 MiB     59.3 MiB     1001000           for j in lista:\n",
            "     9    106.7 MiB     10.4 MiB     1000000               pares.append((i, j))\n",
            "    10    106.7 MiB      0.0 MiB           1       return pares\n",
            "\n",
            "\n"
          ]
        }
      ]
    },
    {
      "cell_type": "code",
      "source": [
        "!python -m memory_profiler algoritmo5.py"
      ],
      "metadata": {
        "colab": {
          "base_uri": "https://localhost:8080/"
        },
        "id": "RXZz6F0jTVQ0",
        "outputId": "c3ea4aa5-54fc-475b-fe53-2eba394846d0"
      },
      "execution_count": 35,
      "outputs": [
        {
          "output_type": "stream",
          "name": "stdout",
          "text": [
            "Subconjuntos: [[], [1], [2], [1, 2], [3], [1, 3], [2, 3], [1, 2, 3]]\n"
          ]
        }
      ]
    },
    {
      "cell_type": "markdown",
      "source": [
        "GENERAR GRAFICOS\n"
      ],
      "metadata": {
        "id": "IRw3bURil203"
      }
    },
    {
      "cell_type": "code",
      "source": [
        "!mprof plot -s -o algoritmo5.py"
      ],
      "metadata": {
        "colab": {
          "base_uri": "https://localhost:8080/"
        },
        "id": "fz29T-zDl1sA",
        "outputId": "e48384fe-46d5-49cd-ca70-3b568c00e6de"
      },
      "execution_count": 43,
      "outputs": [
        {
          "output_type": "stream",
          "name": "stdout",
          "text": [
            "No input file found. \n",
            "This program looks for mprofile_*.dat files, generated by the 'mprof run' command.\n"
          ]
        }
      ]
    },
    {
      "cell_type": "code",
      "source": [
        "def generar_subconjuntos(conjunto):\n",
        "    subconjuntos = [[]]  # Inicializa con el conjunto vacío\n",
        "    for elemento in conjunto:\n",
        "        nuevos_subconjuntos = []\n",
        "        for subconjunto in subconjuntos:\n",
        "            nuevo_subconjunto = subconjunto[:]  # Crea una copia del subconjunto actual\n",
        "            nuevo_subconjunto.append(elemento)  # Agrega el elemento actual al nuevo subconjunto\n",
        "            nuevos_subconjuntos.append(nuevo_subconjunto)  # Agrega el nuevo subconjunto a la lista de nuevos subconjuntos\n",
        "        subconjuntos.extend(nuevos_subconjuntos)  # Agrega todos los nuevos subconjuntos a la lista de subconjuntos\n",
        "    return subconjuntos\n",
        "\n",
        "# Ejemplo de uso\n",
        "conjunto = [1, 2, 3]\n",
        "subconjuntos = generar_subconjuntos(conjunto)\n",
        "print(\"Subconjuntos:\", subconjuntos)"
      ],
      "metadata": {
        "colab": {
          "base_uri": "https://localhost:8080/"
        },
        "id": "Xek31gHapOnB",
        "outputId": "5b6b2c54-52e1-4568-f332-7ebe0b4d7eb6"
      },
      "execution_count": 39,
      "outputs": [
        {
          "output_type": "stream",
          "name": "stdout",
          "text": [
            "Subconjuntos: [[], [1], [2], [1, 2], [3], [1, 3], [2, 3], [1, 2, 3]]\n"
          ]
        }
      ]
    }
  ]
}